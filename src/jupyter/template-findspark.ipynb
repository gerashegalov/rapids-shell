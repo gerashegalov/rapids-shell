{
 "cells": [
  {
   "cell_type": "markdown",
   "id": "4146aabb-1c55-415e-b60c-23a1dcc1184a",
   "metadata": {
    "tags": []
   },
   "source": [
    "Start jupyter-lab\n",
    "\n",
    "```bash\n",
    "jupyter-lab --notebook-dir=$HOME/gits/gerashegalov/rapids-shell/src/jupyter\n",
    "```\n",
    "or simply open in VS Code with Jupyter extension"
   ]
  },
  {
   "cell_type": "code",
   "execution_count": null,
   "id": "4010da20-e354-4b10-b3ce-000344c59daf",
   "metadata": {},
   "outputs": [],
   "source": [
    "# Easy imports\n",
    "import findspark\n",
    "import glob\n",
    "import os\n",
    "import shutil\n",
    "import sys\n",
    "import tempfile"
   ]
  },
  {
   "cell_type": "code",
   "execution_count": null,
   "id": "ab907e62",
   "metadata": {},
   "outputs": [],
   "source": [
    "# Environment\n",
    "home_dir = os.environ['HOME']\n",
    "work_dir = f\"{home_dir}/jupyter_run_dir\"\n",
    "rapids_version = '22.12.0-SNAPSHOT'\n",
    "locally_built = True\n",
    "tz = 'UTC'\n",
    "os.environ['TZ'] = tz\n",
    "os.environ['SPARK_HOME'] = f\"{home_dir}/dist/spark-3.1.1-bin-hadoop3.2\"\n",
    "os.environ['PARALLEL_LEVEL'] = \"2\"\n",
    "sys.path.append(f\"{home_dir}/gits/NVIDIA/spark-rapids/integration_tests/src/main/python\")"
   ]
  },
  {
   "cell_type": "code",
   "execution_count": null,
   "id": "a5efd361-41ba-4afa-bfec-4568c00bf0d6",
   "metadata": {},
   "outputs": [],
   "source": [
    "# Spark Master\n",
    "cores_per_exec = 1\n",
    "spark_master = f\"local-cluster[1,{cores_per_exec},4096]\"\n",
    "# spark_master = f\"local[{cores_per_exec}]\"\n",
    "\n",
    "# debugger string\n",
    "# jdwp = '-agentlib:jdwp=transport=dt_socket,server=y,address=localhost:5005'\n",
    "jdwp = ''"
   ]
  },
  {
   "cell_type": "code",
   "execution_count": null,
   "id": "8b890691",
   "metadata": {},
   "outputs": [],
   "source": [
    "# Log4J debug\n",
    "debugLogClasses = [\n",
    "    'com.nvidia.spark.rapids.DeviceMemoryEventHandler',\n",
    "    'com.nvidia.spark.rapids.RapidsBufferStore',\n",
    "]\n",
    "\n",
    "log4j_fname = tempfile.mktemp(suffix=\".properties\", prefix=\"log4j\")\n",
    "print(f\"Wrting log4j conf to {log4j_fname}\")\n",
    "with open(log4j_fname, 'w+t') as log4j_fobj:\n",
    "    log4j_fobj.write('''\n",
    "log4j.rootCategory=INFO, console\n",
    "log4j.appender.console=org.apache.log4j.ConsoleAppender\n",
    "log4j.appender.console.target=System.err\n",
    "log4j.appender.console.layout=org.apache.log4j.PatternLayout\n",
    "log4j.appender.console.layout.ConversionPattern=%d{yy/MM/dd HH:mm:ss} %p %c{1}: %m%n\n",
    "''')\n",
    "    for d in debugLogClasses:\n",
    "        log4j_fobj.write(f\"log4j.logger.{d}=ALL\\n\")\n",
    "log4j_name_comp = log4j_fname.split(os.sep)[-1]\n",
    "log4j_name_comp"
   ]
  },
  {
   "cell_type": "code",
   "execution_count": null,
   "id": "7c9efd4d-b13c-487d-b086-3c7041f21a62",
   "metadata": {
    "tags": []
   },
   "outputs": [],
   "source": [
    "findspark.init()\n",
    "if locally_built:\n",
    "  findspark.add_jars(f\"{home_dir}/gits/NVIDIA/spark-rapids/dist/target/rapids-4-spark_2.12-{rapids_version}-cuda11.jar\")\n",
    "else:\n",
    "  findspark.add_packages(f\"com.nvidia:rapids-4-spark_2.12:{rapids_version}\")"
   ]
  },
  {
   "cell_type": "code",
   "execution_count": null,
   "id": "15dd6b39-9f91-4855-ab13-25989937df4e",
   "metadata": {},
   "outputs": [],
   "source": [
    "import pyspark\n",
    "from pyspark.sql.functions import *\n",
    "spark_rapids_conf = pyspark.SparkConf(loadDefaults=False)\\\n",
    "    .setAll([\n",
    "        ('spark.driver.extraJavaOptions', f\"-Dai.rapids.refcount.debug=true -Dlog4j.debug=true -Dlog4j.configuration=file://{log4j_fname}\"),\n",
    "        ('spark.executor.extraJavaOptions', f\"-Dai.rapids.refcount.debug=true {jdwp} -Dlog4j.debug=true -Dlog4j.configuration=file://{log4j_fname}\"),\n",
    "        ('spark.executorEnv.TZ', tz),\n",
    "        ('spark.plugins', 'com.nvidia.spark.SQLPlugin'),\n",
    "        ('spark.rapids.sql.explain', 'ALL'),   \n",
    "    ])\n",
    "spark = pyspark.sql.SparkSession.builder\\\n",
    "    .config(conf=spark_rapids_conf)\\\n",
    "    .appName('RAPIDS PySpark Notebook')\\\n",
    "    .master(spark_master)\\\n",
    "    .getOrCreate()"
   ]
  },
  {
   "cell_type": "code",
   "execution_count": null,
   "id": "d2438c36-df9b-4177-85da-b114a0d16f80",
   "metadata": {},
   "outputs": [],
   "source": [
    "spark"
   ]
  },
  {
   "cell_type": "code",
   "execution_count": null,
   "id": "bbdd7645",
   "metadata": {},
   "outputs": [],
   "source": [
    "spark._jvm.com.nvidia.spark.rapids.RapidsPluginUtils.loadProps(\"cudf-java-version-info.properties\")"
   ]
  },
  {
   "cell_type": "code",
   "execution_count": null,
   "id": "b02e4d46",
   "metadata": {},
   "outputs": [],
   "source": [
    "spark._jvm.com.nvidia.spark.rapids.RapidsPluginUtils.loadProps(\"spark-rapids-jni-version-info.properties\")"
   ]
  },
  {
   "cell_type": "code",
   "execution_count": null,
   "id": "241032c5",
   "metadata": {},
   "outputs": [],
   "source": [
    "spark._jvm.com.nvidia.spark.rapids.RapidsPluginUtils.loadProps(\"rapids4spark-version-info.properties\")"
   ]
  },
  {
   "cell_type": "code",
   "execution_count": null,
   "id": "2f107f11-35b3-4843-a36b-be86e7c75d89",
   "metadata": {},
   "outputs": [],
   "source": [
    "# Enable debug for Rapids Stores, log4j propereties are useless because REPL\n",
    "# resets setLogLeve for the root logger\n",
    "for c in debugLogClasses:\n",
    "    spark._jvm.org.apache.log4j.Logger\\\n",
    "        .getLogger(c)\\\n",
    "        .setLevel(spark._jvm.org.apache.log4j.Level.ALL)"
   ]
  },
  {
   "cell_type": "markdown",
   "id": "93760caf-70b4-485e-8b06-43a95e51da29",
   "metadata": {},
   "source": [
    "## Datagen from integration tests"
   ]
  },
  {
   "cell_type": "code",
   "execution_count": null,
   "id": "4bfef7df-37fb-4f38-903e-1e56e949a52a",
   "metadata": {},
   "outputs": [],
   "source": [
    "import spark_init_internal\n",
    "setattr(spark_init_internal, '_spark', spark)\n",
    "from data_gen import *"
   ]
  },
  {
   "cell_type": "code",
   "execution_count": null,
   "id": "851b6700",
   "metadata": {},
   "outputs": [],
   "source": [
    "# datagen works?\n",
    "unary_op_df(spark=spark, gen=TimestampGen(nullable=False), length=3, num_slices=1).show(truncate=False)"
   ]
  }
 ],
 "metadata": {
  "kernelspec": {
   "display_name": "Python 3 (ipykernel)",
   "language": "python",
   "name": "python3"
  },
  "language_info": {
   "codemirror_mode": {
    "name": "ipython",
    "version": 3
   },
   "file_extension": ".py",
   "mimetype": "text/x-python",
   "name": "python",
   "nbconvert_exporter": "python",
   "pygments_lexer": "ipython3",
   "version": "3.8.13"
  },
  "vscode": {
   "interpreter": {
    "hash": "24e1e440b58174d23459f334e6373b3f84a303d378405919ee47af328df355be"
   }
  }
 },
 "nbformat": 4,
 "nbformat_minor": 5
}
