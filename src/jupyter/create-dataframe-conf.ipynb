{
 "cells": [
  {
   "attachments": {},
   "cell_type": "markdown",
   "id": "4146aabb-1c55-415e-b60c-23a1dcc1184a",
   "metadata": {
    "tags": []
   },
   "source": [
    "Start jupyter-lab\n",
    "\n",
    "```bash\n",
    "jupyter-lab --notebook-dir=$HOME/gits/gerashegalov/rapids-shell/src/jupyter\n",
    "```\n",
    "or simply open in VS Code with Jupyter extension"
   ]
  },
  {
   "cell_type": "code",
   "execution_count": 1,
   "id": "4010da20-e354-4b10-b3ce-000344c59daf",
   "metadata": {},
   "outputs": [],
   "source": [
    "import datetime\n",
    "import findspark\n",
    "import os"
   ]
  },
  {
   "cell_type": "code",
   "execution_count": 2,
   "id": "ab907e62",
   "metadata": {},
   "outputs": [],
   "source": [
    "ts=datetime.datetime.today()\n",
    "home_dir = os.environ['HOME']\n",
    "work_dir = f\"{home_dir}/jupyter_run_dir\"\n",
    "spark_home = f\"{home_dir}/dist/spark-3.4.0-bin-hadoop3\"\n",
    "cores_per_exec = 1\n",
    "spark_master = f\"local[{cores_per_exec}]\"\n",
    "findspark.init(spark_home=spark_home)"
   ]
  },
  {
   "cell_type": "code",
   "execution_count": 3,
   "id": "15dd6b39-9f91-4855-ab13-25989937df4e",
   "metadata": {},
   "outputs": [
    {
     "name": "stderr",
     "output_type": "stream",
     "text": [
      "Setting default log level to \"WARN\".\n",
      "To adjust logging level use sc.setLogLevel(newLevel). For SparkR, use setLogLevel(newLevel).\n",
      "23/06/05 20:14:31 WARN NativeCodeLoader: Unable to load native-hadoop library for your platform... using builtin-java classes where applicable\n"
     ]
    }
   ],
   "source": [
    "import pyspark\n",
    "spark_rapids_conf = pyspark.SparkConf(loadDefaults=False)\n",
    "spark = pyspark.sql.SparkSession.builder\\\n",
    "    .config(conf=spark_rapids_conf)\\\n",
    "    .appName('RAPIDS PySpark Notebook')\\\n",
    "    .master(spark_master)\\\n",
    "    .getOrCreate()"
   ]
  },
  {
   "cell_type": "code",
   "execution_count": 4,
   "id": "d2438c36-df9b-4177-85da-b114a0d16f80",
   "metadata": {},
   "outputs": [
    {
     "name": "stdout",
     "output_type": "stream",
     "text": [
      "+--------------------------+\n",
      "|ts                        |\n",
      "+--------------------------+\n",
      "|2023-06-06 03:14:30.324271|\n",
      "+--------------------------+\n",
      "\n"
     ]
    },
    {
     "name": "stderr",
     "output_type": "stream",
     "text": [
      "                                                                                \r"
     ]
    }
   ],
   "source": [
    "spark.conf.set('spark.sql.session.timeZone', 'UTC')\n",
    "spark.conf.set('spark.sql.timestampType', 'TIMESTAMP_LTZ')\n",
    "conf1 = spark.conf\n",
    "spark.createDataFrame([(ts,),], 'ts timestamp').createOrReplaceTempView('df1')\n",
    "spark.sql(\"SELECT * FROM df1\").show(truncate=False)"
   ]
  },
  {
   "cell_type": "code",
   "execution_count": 5,
   "id": "b0ea90d7",
   "metadata": {},
   "outputs": [
    {
     "name": "stdout",
     "output_type": "stream",
     "text": [
      "+--------------------------+\n",
      "|ts                        |\n",
      "+--------------------------+\n",
      "|2023-06-05 20:14:30.324271|\n",
      "+--------------------------+\n",
      "\n"
     ]
    }
   ],
   "source": [
    "spark.conf.set('spark.sql.timestampType', 'TIMESTAMP_NTZ')\n",
    "conf2 = spark.conf\n",
    "spark.createDataFrame([(ts,),], 'ts timestamp').createOrReplaceTempView('df2')\n",
    "spark.sql(\"SELECT * FROM df2\").show(truncate=False)"
   ]
  },
  {
   "cell_type": "code",
   "execution_count": 6,
   "id": "00a6d653",
   "metadata": {},
   "outputs": [
    {
     "data": {
      "text/plain": [
       "True"
      ]
     },
     "execution_count": 6,
     "metadata": {},
     "output_type": "execute_result"
    }
   ],
   "source": [
    "conf1 == conf2"
   ]
  },
  {
   "cell_type": "code",
   "execution_count": 7,
   "id": "a22c7ddd",
   "metadata": {},
   "outputs": [
    {
     "name": "stdout",
     "output_type": "stream",
     "text": [
      "+--------------------------+--------------------------+\n",
      "|ts                        |ts                        |\n",
      "+--------------------------+--------------------------+\n",
      "|2023-06-06 03:14:30.324271|2023-06-05 20:14:30.324271|\n",
      "+--------------------------+--------------------------+\n",
      "\n"
     ]
    }
   ],
   "source": [
    "spark.sql('SELECT * FROM df1 JOIN df2').show(truncate=False)"
   ]
  },
  {
   "cell_type": "code",
   "execution_count": 8,
   "id": "4f64943e",
   "metadata": {},
   "outputs": [
    {
     "name": "stdout",
     "output_type": "stream",
     "text": [
      "+---+---+\n",
      "|ts |ts |\n",
      "+---+---+\n",
      "+---+---+\n",
      "\n"
     ]
    }
   ],
   "source": [
    "spark.sql('SELECT * FROM df1 JOIN df2 ON df1.ts=df2.ts').show(truncate=False)"
   ]
  }
 ],
 "metadata": {
  "kernelspec": {
   "display_name": "Python 3 (ipykernel)",
   "language": "python",
   "name": "python3"
  },
  "language_info": {
   "codemirror_mode": {
    "name": "ipython",
    "version": 3
   },
   "file_extension": ".py",
   "mimetype": "text/x-python",
   "name": "python",
   "nbconvert_exporter": "python",
   "pygments_lexer": "ipython3",
   "version": "3.10.6"
  },
  "vscode": {
   "interpreter": {
    "hash": "24e1e440b58174d23459f334e6373b3f84a303d378405919ee47af328df355be"
   }
  }
 },
 "nbformat": 4,
 "nbformat_minor": 5
}
