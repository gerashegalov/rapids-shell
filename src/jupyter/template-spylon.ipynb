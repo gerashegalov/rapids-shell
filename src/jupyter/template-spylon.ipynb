{
 "cells": [
  {
   "cell_type": "markdown",
   "id": "4146aabb-1c55-415e-b60c-23a1dcc1184a",
   "metadata": {
    "tags": []
   },
   "source": [
    "Start jupyter-lab\n",
    "\n",
    "```bash\n",
    "jupyter-lab --notebook-dir=$HOME/gits/gerashegalov/rapids-shell/src/jupyter\n",
    "```\n",
    "and/or connect to the URL VS Code with Jupyter extension"
   ]
  },
  {
   "cell_type": "code",
   "execution_count": null,
   "id": "4010da20-e354-4b10-b3ce-000344c59daf",
   "metadata": {},
   "outputs": [],
   "source": [
    "%%init_spark\n",
    "\n",
    "import os\n",
    "import sys\n",
    "import tempfile\n",
    "\n",
    "# Environment\n",
    "home_dir = os.environ['HOME']\n",
    "work_dir = f\"{home_dir}/jupyter_run_dir\"\n",
    "rapids_version = '22.12.0-SNAPSHOT'\n",
    "locally_built = True\n",
    "tz = 'UTC'\n",
    "os.environ['SPARK_HOME'] = f\"{home_dir}/dist/spark-3.1.1-bin-hadoop3.2\"\n",
    "os.environ['TZ'] = tz\n",
    "sys.path.append(f\"{home_dir}/gits/NVIDIA/spark-rapids/integration_tests/src/main/python\")\n",
    "\n",
    "# Spark Master\n",
    "cores_per_exec = 1\n",
    "spark_master = f\"local-cluster[1,{cores_per_exec},4096]\"\n",
    "# spark_master = f\"local[{cores_per_exec}]\"\n",
    "\n",
    "# debugger string\n",
    "# jdwp = '-agentlib:jdwp=transport=dt_socket,server=n,address=localhost:5005'\n",
    "jdwp = ''\n",
    "\n",
    "if locally_built:\n",
    "  launcher.jars = [\n",
    "    f\"{home_dir}/gits/NVIDIA/spark-rapids/dist/target/rapids-4-spark_2.12-{rapids_version}-cuda11.jar\"\n",
    "  ]\n",
    "else:\n",
    "  launcher.packages = [\n",
    "    f\"com.nvidia:rapids-4-spark_2.12:{rapids_version}\"\n",
    "  ]\n",
    "\n",
    "launcher.conf.spark.driver.extraJavaOptions = f\"\\\"-Dai.rapids.refcount.debug=true -Dlog4j.debug=true {jdwp}\\\"\"\n",
    "launcher.conf.spark.executor.extraJavaOptions = \"\\\"-Dai.rapids.refcount.debug=true -Dlog4j.debug=true\\\"\"\n",
    "launcher.conf.spark.executorEnv.TZ = tz\n",
    "launcher.conf.spark.master = spark_master\n",
    "launcher.conf.spark.plugins = \"com.nvidia.spark.SQLPlugin\"\n",
    "launcher.conf.set('spark.rapids.sql.explain', 'ALL')"
   ]
  },
  {
   "cell_type": "code",
   "execution_count": null,
   "id": "b9d58b62",
   "metadata": {},
   "outputs": [],
   "source": [
    "spark"
   ]
  },
  {
   "cell_type": "code",
   "execution_count": null,
   "id": "8ca7b5e3",
   "metadata": {},
   "outputs": [],
   "source": [
    "%%python\n",
    "import os\n",
    "print(f\"Driver Python version: {sc.pythonVer}\\n\")\n",
    "print(f\"Worker Python version: {os.environ['PYSPARK_PYTHON']}\\n\")"
   ]
  },
  {
   "cell_type": "markdown",
   "id": "93760caf-70b4-485e-8b06-43a95e51da29",
   "metadata": {},
   "source": [
    "## Datagen from integration tests"
   ]
  },
  {
   "cell_type": "code",
   "execution_count": null,
   "id": "4bfef7df-37fb-4f38-903e-1e56e949a52a",
   "metadata": {},
   "outputs": [],
   "source": [
    "%%python\n",
    "import spark_init_internal\n",
    "setattr(spark_init_internal, '_spark', spark)\n",
    "from data_gen import *"
   ]
  },
  {
   "cell_type": "code",
   "execution_count": null,
   "id": "851b6700",
   "metadata": {},
   "outputs": [],
   "source": [
    "%%python\n",
    "# datagen works?\n",
    "df = unary_op_df(spark=spark, gen=TimestampGen(nullable=False), length=3, num_slices=1)\n",
    "df.createOrReplaceTempView('DFT')\n",
    "df.show(truncate=False)"
   ]
  },
  {
   "cell_type": "markdown",
   "id": "ceaa7b5e-cb27-4fa3-b604-28adde535eb6",
   "metadata": {},
   "source": [
    "## Work in Scala by default"
   ]
  },
  {
   "cell_type": "code",
   "execution_count": null,
   "id": "6238b868-2088-44b7-8c94-54550d445715",
   "metadata": {},
   "outputs": [],
   "source": [
    "val scalaDF = spark.sql(\"SELECT * FROM DFT\")\n",
    "scalaDF.selectExpr(\"MAX(a)\").collect()"
   ]
  }
 ],
 "metadata": {
  "kernelspec": {
   "display_name": "spylon-kernel",
   "language": "scala",
   "name": "spylon-kernel"
  },
  "language_info": {
   "codemirror_mode": "text/x-scala",
   "file_extension": ".scala",
   "help_links": [
    {
     "text": "MetaKernel Magics",
     "url": "https://metakernel.readthedocs.io/en/latest/source/README.html"
    }
   ],
   "mimetype": "text/x-scala",
   "name": "scala",
   "pygments_lexer": "scala",
   "version": "0.4.1"
  },
  "vscode": {
   "interpreter": {
    "hash": "1dd37426310c61fc07d815556c8cb63bdebacebaae986e1cd2222e3edb799884"
   }
  }
 },
 "nbformat": 4,
 "nbformat_minor": 5
}
