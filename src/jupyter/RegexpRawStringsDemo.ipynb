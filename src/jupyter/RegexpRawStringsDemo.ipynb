{
 "cells": [
  {
   "attachments": {},
   "cell_type": "markdown",
   "id": "4146aabb-1c55-415e-b60c-23a1dcc1184a",
   "metadata": {
    "tags": []
   },
   "source": [
    "\n",
    "# Regexes and Raw Strings at Python, Scala, SQL Parser levels\n",
    "\n",
    "Start jupyter-lab\n",
    "\n",
    "```bash\n",
    "jupyter-lab --notebook-dir=$HOME/gits/gerashegalov/rapids-shell/src/jupyter\n",
    "```\n",
    "and/or connect to the URL VS Code with Jupyter extension"
   ]
  },
  {
   "attachments": {},
   "cell_type": "markdown",
   "id": "762f094e",
   "metadata": {},
   "source": [
    "## Start Spark"
   ]
  },
  {
   "cell_type": "code",
   "execution_count": 1,
   "id": "4010da20-e354-4b10-b3ce-000344c59daf",
   "metadata": {},
   "outputs": [],
   "source": [
    "%%init_spark\n",
    "\n",
    "import os\n",
    "import sys\n",
    "import tempfile\n",
    "\n",
    "# Environment\n",
    "home_dir = os.environ['HOME']\n",
    "work_dir = f\"{home_dir}/jupyter_run_dir\"\n",
    "tz = 'UTC'\n",
    "os.environ['SPARK_HOME'] = f\"{home_dir}/dist/spark-3.4.0-bin-hadoop3\"\n",
    "os.environ['TZ'] = tz\n",
    "sys.path.append(f\"{home_dir}/gits/NVIDIA/spark-rapids/integration_tests/src/main/python\")\n",
    "rapids_version = '23.06.0-SNAPSHOT'\n",
    "locally_built = True\n",
    "\n",
    "# Spark Master\n",
    "cores_per_exec = 2\n",
    "# spark_master = f\"local-cluster[1,{cores_per_exec},4096]\"\n",
    "spark_master = f\"local[{cores_per_exec}]\"\n",
    "\n",
    "# debugger string\n",
    "# jdwp = '-agentlib:jdwp=transport=dt_socket,server=n,address=localhost:5005'\n",
    "jdwp = ''\n",
    "\n",
    "if locally_built:\n",
    "  launcher.jars = [\n",
    "    f\"{home_dir}/gits/NVIDIA/spark-rapids/dist/target/rapids-4-spark_2.12-{rapids_version}-cuda11.jar\"\n",
    "  ]\n",
    "else:\n",
    "  launcher.packages = [\n",
    "    f\"com.nvidia:rapids-4-spark_2.12:{rapids_version}\"\n",
    "  ]\n",
    "\n",
    "launcher.conf.spark.driver.extraJavaOptions = f\"\\\"-Dai.rapids.refcount.debug=true -Dlog4j.debug=true {jdwp}\\\"\"\n",
    "launcher.conf.spark.executor.extraJavaOptions = \"\\\"-Dai.rapids.refcount.debug=true -Dlog4j.debug=true\\\"\"\n",
    "launcher.conf.spark.executorEnv.TZ = tz\n",
    "launcher.conf.spark.master = spark_master\n",
    "launcher.conf.spark.plugins = \"com.nvidia.spark.SQLPlugin\"\n",
    "launcher.conf.set('spark.rapids.sql.explain', 'ALL')"
   ]
  },
  {
   "cell_type": "code",
   "execution_count": 2,
   "id": "b9d58b62",
   "metadata": {},
   "outputs": [
    {
     "data": {
      "text/plain": [
       "Intitializing Scala interpreter ..."
      ]
     },
     "metadata": {},
     "output_type": "display_data"
    },
    {
     "data": {
      "text/plain": [
       "Spark Web UI available at http://10.0.0.132:4040\n",
       "SparkContext available as 'sc' (version = 3.4.0, master = local[2], app id = local-1684264258519)\n",
       "SparkSession available as 'spark'\n"
      ]
     },
     "metadata": {},
     "output_type": "display_data"
    },
    {
     "data": {
      "text/plain": [
       "import org.apache.spark.sql.{functions=>f}\n",
       "res0: org.apache.spark.sql.SparkSession = org.apache.spark.sql.SparkSession@6d2eeaf3\n"
      ]
     },
     "execution_count": 2,
     "metadata": {},
     "output_type": "execute_result"
    }
   ],
   "source": [
    "import org.apache.spark.sql.{functions => f}\n",
    "spark"
   ]
  },
  {
   "cell_type": "code",
   "execution_count": 3,
   "id": "4bfef7df-37fb-4f38-903e-1e56e949a52a",
   "metadata": {},
   "outputs": [
    {
     "data": {
      "text/html": [
       "\n",
       "            <div>\n",
       "                <p><b>SparkSession - in-memory</b></p>\n",
       "                \n",
       "        <div>\n",
       "            <p><b>SparkContext</b></p>\n",
       "\n",
       "            <p><a href=\"http://10.0.0.132:4040\">Spark UI</a></p>\n",
       "\n",
       "            <dl>\n",
       "              <dt>Version</dt>\n",
       "                <dd><code>v3.4.0</code></dd>\n",
       "              <dt>Master</dt>\n",
       "                <dd><code>local[2]</code></dd>\n",
       "              <dt>AppName</dt>\n",
       "                <dd><code>spylon-kernel</code></dd>\n",
       "            </dl>\n",
       "        </div>\n",
       "        \n",
       "            </div>\n",
       "        "
      ],
      "text/plain": [
       "<pyspark.sql.session.SparkSession object at 0x7f46dcce2bf0>"
      ]
     },
     "execution_count": 3,
     "metadata": {},
     "output_type": "execute_result"
    }
   ],
   "source": [
    "%%python\n",
    "import pyspark\n",
    "import pyspark.sql.functions as f\n",
    "spark"
   ]
  },
  {
   "attachments": {},
   "cell_type": "markdown",
   "id": "55d40de9",
   "metadata": {},
   "source": [
    "### Define DataFrame in Python and Scala"
   ]
  },
  {
   "cell_type": "code",
   "execution_count": 4,
   "id": "851b6700",
   "metadata": {},
   "outputs": [
    {
     "name": "stdout",
     "output_type": "stream",
     "text": [
      "+---------+\n",
      "|        a|\n",
      "+---------+\n",
      "|1234.5678|\n",
      "|1234\\5678|\n",
      "+---------+\n",
      "\n"
     ]
    }
   ],
   "source": [
    "%%python\n",
    "df =  spark.createDataFrame(\n",
    "    [\n",
    "        (r'1234.5678',),\n",
    "        (r'1234\\5678',),\n",
    "    ], 'a string')\n",
    "df.show()\n",
    "df.createOrReplaceTempView('df');"
   ]
  },
  {
   "cell_type": "code",
   "execution_count": 5,
   "id": "5e1264b4",
   "metadata": {},
   "outputs": [
    {
     "name": "stdout",
     "output_type": "stream",
     "text": [
      "+---------+\n",
      "|        a|\n",
      "+---------+\n",
      "|1234.5678|\n",
      "|1234\\5678|\n",
      "+---------+\n",
      "\n"
     ]
    },
    {
     "data": {
      "text/plain": [
       "df: org.apache.spark.sql.DataFrame = [a: string]\n"
      ]
     },
     "execution_count": 5,
     "metadata": {},
     "output_type": "execute_result"
    }
   ],
   "source": [
    "val df = sql(\"SELECT * FROM df\")\n",
    "df.show()"
   ]
  },
  {
   "attachments": {},
   "cell_type": "markdown",
   "id": "1f128eca",
   "metadata": {},
   "source": [
    "## Use raw strings to avoid double escaping for regex containing `\\`"
   ]
  },
  {
   "attachments": {},
   "cell_type": "markdown",
   "id": "8438eb11",
   "metadata": {},
   "source": [
    "### Original way to produce normalized regex `[\\\\.]`"
   ]
  },
  {
   "cell_type": "code",
   "execution_count": 6,
   "id": "87658052",
   "metadata": {},
   "outputs": [
    {
     "name": "stdout",
     "output_type": "stream",
     "text": [
      "== Physical Plan ==\n",
      "GpuColumnarToRow false\n",
      "+- GpuProject [split(a#0, [\\\\.], 2, [\\\\.], true) AS b#13]\n",
      "   +- GpuRowToColumnar targetsize(1073741824)\n",
      "      +- *(1) Scan ExistingRDD[a#0]\n",
      "\n",
      "\n",
      "+------------+\n",
      "|           b|\n",
      "+------------+\n",
      "|[1234, 5678]|\n",
      "|[1234, 5678]|\n",
      "+------------+\n",
      "\n"
     ]
    }
   ],
   "source": [
    "%%python\n",
    "original_query = \"SELECT SPLIT(a, '[\\\\\\\\\\\\\\\\.]', 2) as b FROM df\"\n",
    "df1 = spark.sql(original_query)\n",
    "df1.explain()\n",
    "df1.show()"
   ]
  },
  {
   "attachments": {},
   "cell_type": "markdown",
   "id": "a2391897",
   "metadata": {},
   "source": [
    "### Using Python raw strings get rid of the escaping between Python to JVM"
   ]
  },
  {
   "cell_type": "code",
   "execution_count": 7,
   "id": "9dcc01d8",
   "metadata": {},
   "outputs": [
    {
     "data": {
      "text/plain": [
       "True"
      ]
     },
     "execution_count": 7,
     "metadata": {},
     "output_type": "execute_result"
    }
   ],
   "source": [
    "%%python\n",
    "raw_python_query = r\"\"\"SELECT SPLIT(a, '[\\\\\\\\.]', 2) as b FROM df\"\"\" \n",
    "original_query == raw_python_query"
   ]
  },
  {
   "attachments": {},
   "cell_type": "markdown",
   "id": "57cf465b",
   "metadata": {},
   "source": [
    "### Using SQL raw strings get rid of the need escape for Spark SQL Parser   "
   ]
  },
  {
   "cell_type": "code",
   "execution_count": 8,
   "id": "b95ed3b7",
   "metadata": {},
   "outputs": [
    {
     "name": "stdout",
     "output_type": "stream",
     "text": [
      "== Physical Plan ==\n",
      "GpuColumnarToRow false\n",
      "+- GpuProject [split(a#0, [\\\\.], 2, [\\\\.], true) AS b#20]\n",
      "   +- GpuRowToColumnar targetsize(1073741824)\n",
      "      +- *(1) Scan ExistingRDD[a#0]\n",
      "\n",
      "\n",
      "+------------+\n",
      "|           b|\n",
      "+------------+\n",
      "|[1234, 5678]|\n",
      "|[1234, 5678]|\n",
      "+------------+\n",
      "\n"
     ]
    }
   ],
   "source": [
    "%%python\n",
    "raw_python_and_sql_query = r\"\"\"SELECT SPLIT(a, r'[\\\\.]', 2) as b FROM df\"\"\"\n",
    "df2 = spark.sql(raw_python_and_sql_query)\n",
    "df2.explain()\n",
    "df2.show() "
   ]
  },
  {
   "attachments": {},
   "cell_type": "markdown",
   "id": "8f2c6511",
   "metadata": {},
   "source": [
    "### Or use PySpark DataFrame API"
   ]
  },
  {
   "cell_type": "code",
   "execution_count": 9,
   "id": "05d9bbbd",
   "metadata": {},
   "outputs": [
    {
     "name": "stdout",
     "output_type": "stream",
     "text": [
      "== Physical Plan ==\n",
      "GpuColumnarToRow false\n",
      "+- GpuProject [split(a#0, [\\\\.], 2, [\\\\.], true) AS b#27]\n",
      "   +- GpuRowToColumnar targetsize(1073741824)\n",
      "      +- *(1) Scan ExistingRDD[a#0]\n",
      "\n",
      "\n",
      "+------------+\n",
      "|           b|\n",
      "+------------+\n",
      "|[1234, 5678]|\n",
      "|[1234, 5678]|\n",
      "+------------+\n",
      "\n"
     ]
    }
   ],
   "source": [
    "%%python\n",
    "df3 = df.select(f.split('a', r'[\\\\.]', 2).alias('b'))\n",
    "df3.explain()\n",
    "df3.show()"
   ]
  },
  {
   "attachments": {},
   "cell_type": "markdown",
   "id": "3c0ef2d3",
   "metadata": {},
   "source": [
    "### Or use Scala raw Strings in Scala Spark DataFrame API   "
   ]
  },
  {
   "cell_type": "code",
   "execution_count": 10,
   "id": "1984a095",
   "metadata": {},
   "outputs": [
    {
     "name": "stdout",
     "output_type": "stream",
     "text": [
      "== Physical Plan ==\n",
      "GpuColumnarToRow false\n",
      "+- GpuProject [split(a#0, [\\\\.], 2, [\\\\.], true) AS b#34]\n",
      "   +- GpuRowToColumnar targetsize(1073741824)\n",
      "      +- *(1) Scan ExistingRDD[a#0]\n",
      "\n",
      "\n",
      "+------------+\n",
      "|           b|\n",
      "+------------+\n",
      "|[1234, 5678]|\n",
      "|[1234, 5678]|\n",
      "+------------+\n",
      "\n"
     ]
    },
    {
     "data": {
      "text/plain": [
       "_: Any = true\n",
       "_7: Any = true\n",
       "df4: org.apache.spark.sql.DataFrame = [b: array<string>]\n"
      ]
     },
     "execution_count": 10,
     "metadata": {},
     "output_type": "execute_result"
    }
   ],
   "source": [
    "val df4 = df.select(f.split($\"a\", raw\"[\\\\.]\", 2).alias(\"b\"))\n",
    "df4.explain()\n",
    "df4.show()"
   ]
  }
 ],
 "metadata": {
  "kernelspec": {
   "display_name": "spylon-kernel",
   "language": "scala",
   "name": "spylon-kernel"
  },
  "language_info": {
   "codemirror_mode": "text/x-scala",
   "file_extension": ".scala",
   "help_links": [
    {
     "text": "MetaKernel Magics",
     "url": "https://metakernel.readthedocs.io/en/latest/source/README.html"
    }
   ],
   "mimetype": "text/x-scala",
   "name": "scala",
   "pygments_lexer": "scala",
   "version": "0.4.1"
  }
 },
 "nbformat": 4,
 "nbformat_minor": 5
}
