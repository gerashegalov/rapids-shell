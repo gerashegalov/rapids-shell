{
 "cells": [
  {
   "attachments": {},
   "cell_type": "markdown",
   "id": "4146aabb-1c55-415e-b60c-23a1dcc1184a",
   "metadata": {
    "tags": []
   },
   "source": [
    "Start jupyter-lab\n",
    "\n",
    "```bash\n",
    "jupyter-lab --notebook-dir=$HOME/gits/gerashegalov/rapids-shell/src/jupyter\n",
    "```\n",
    "or simply open in VS Code with Jupyter extension"
   ]
  },
  {
   "cell_type": "code",
   "execution_count": null,
   "id": "4010da20-e354-4b10-b3ce-000344c59daf",
   "metadata": {},
   "outputs": [],
   "source": [
    "import findspark\n",
    "import os"
   ]
  },
  {
   "cell_type": "code",
   "execution_count": null,
   "id": "ab907e62",
   "metadata": {},
   "outputs": [],
   "source": [
    "os.environ['SPARK_LOCAL_IP'] = '127.0.0.1'\n",
    "os.environ['TZ']='UTC'\n",
    "home_dir = os.environ['HOME']\n",
    "work_dir = f\"{home_dir}/jupyter_run_dir\"\n",
    "spark_home = f\"{home_dir}/dist/spark-3.4.0-bin-hadoop3\"\n",
    "cores_per_exec = 1\n",
    "spark_master = f\"local[{cores_per_exec}]\"\n",
    "rapids_version='23.08.0-SNAPSHOT'\n",
    "findspark.init(spark_home=spark_home)\n",
    "findspark.add_jars(f\"{home_dir}/gits/NVIDIA/spark-rapids/dist/target/rapids-4-spark_2.12-{rapids_version}-cuda11.jar\")\n"
   ]
  },
  {
   "cell_type": "code",
   "execution_count": null,
   "id": "15dd6b39-9f91-4855-ab13-25989937df4e",
   "metadata": {},
   "outputs": [],
   "source": [
    "import pyspark\n",
    "\n",
    "spark = pyspark.sql.SparkSession.builder \\\n",
    "    .appName('RAPIDS PySpark Notebook') \\\n",
    "    .master(spark_master) \\\n",
    "    .config('spark.plugins', 'com.nvidia.spark.SQLPlugin') \\\n",
    "    .config('spark.rapids.sql.explain', 'ALL') \\\n",
    "    .config('spark.rapids.sql.expression.JsonToStructs', True) \\\n",
    "    .getOrCreate()"
   ]
  },
  {
   "cell_type": "code",
   "execution_count": null,
   "id": "53a456ab",
   "metadata": {},
   "outputs": [],
   "source": [
    "import sys\n",
    "sys.path.append(f\"{home_dir}/gits/NVIDIA/spark-rapids/integration_tests/src/main/python\")\n",
    "import spark_init_internal\n",
    "setattr(spark_init_internal, '_spark', spark)\n",
    "from data_gen import *"
   ]
  },
  {
   "cell_type": "code",
   "execution_count": null,
   "id": "37fd6b3e",
   "metadata": {},
   "outputs": [],
   "source": [
    "df = unary_op_df(spark, StringGen('', nullable=True))"
   ]
  },
  {
   "cell_type": "code",
   "execution_count": null,
   "id": "9dccbf49",
   "metadata": {},
   "outputs": [],
   "source": [
    "schema=[\n",
    "    StructType([StructField(\"a\", StringType())]),\n",
    "    StructType([\n",
    "        StructField(\"a\", StringType()), \n",
    "        StructField(\"b\", IntegerType())\n",
    "    ])\n",
    "]"
   ]
  },
  {
   "cell_type": "code",
   "execution_count": null,
   "id": "557e6b78",
   "metadata": {},
   "outputs": [],
   "source": [
    "simple_schema = list(map(lambda s: s.simpleString(), schema))"
   ]
  },
  {
   "cell_type": "code",
   "execution_count": null,
   "id": "d05fb20a",
   "metadata": {},
   "outputs": [],
   "source": [
    "simple_schema = ['struct<a:struct<a:string>>', 'struct<a:string,b:int>']"
   ]
  },
  {
   "cell_type": "code",
   "execution_count": null,
   "id": "8ff28351",
   "metadata": {},
   "outputs": [],
   "source": [
    "df.select(pyspark.sql.functions.from_json('a', simple_schema[0])).collect()"
   ]
  },
  {
   "cell_type": "code",
   "execution_count": null,
   "id": "5c2f7f41",
   "metadata": {},
   "outputs": [],
   "source": [
    "spark.createDataFrame([('gera',),], 'a:string')"
   ]
  }
 ],
 "metadata": {
  "kernelspec": {
   "display_name": "Python 3 (ipykernel)",
   "language": "python",
   "name": "python3"
  },
  "language_info": {
   "codemirror_mode": {
    "name": "ipython",
    "version": 3
   },
   "file_extension": ".py",
   "mimetype": "text/x-python",
   "name": "python",
   "nbconvert_exporter": "python",
   "pygments_lexer": "ipython3",
   "version": "3.10.6"
  },
  "vscode": {
   "interpreter": {
    "hash": "24e1e440b58174d23459f334e6373b3f84a303d378405919ee47af328df355be"
   }
  }
 },
 "nbformat": 4,
 "nbformat_minor": 5
}
