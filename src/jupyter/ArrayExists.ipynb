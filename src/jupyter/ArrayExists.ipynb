{
 "cells": [
  {
   "cell_type": "markdown",
   "id": "14882b64-d16e-4a42-9874-a1c39e4b5867",
   "metadata": {},
   "source": [
    "# Spark RAPIDS - ArrayExists demo\n",
    "\n",
    "GPU implementation at [GpuArrayExists](https://github.com/NVIDIA/spark-rapids/blob/4e77f8501ca3ed4927bb2617f208d155b94f17f8/sql-plugin/src/main/scala/com/nvidia/spark/rapids/higherOrderFunctions.scala#L312)"
   ]
  },
  {
   "cell_type": "markdown",
   "id": "28b69ad1-3b12-4756-ace8-a18a6028f00a",
   "metadata": {},
   "source": [
    "### Spark Session"
   ]
  },
  {
   "cell_type": "code",
   "execution_count": null,
   "id": "a6ebd685-6c3e-42c5-9617-a219b24cce79",
   "metadata": {},
   "outputs": [],
   "source": [
    "spark"
   ]
  },
  {
   "cell_type": "markdown",
   "id": "05b3e973-e70a-4c82-a7ad-4f57df6eb5cd",
   "metadata": {
    "tags": []
   },
   "source": [
    "### RAPIDS Plugin Version Properties"
   ]
  },
  {
   "cell_type": "code",
   "execution_count": null,
   "id": "79050035-2046-4326-9171-a2614ee4ddc4",
   "metadata": {},
   "outputs": [],
   "source": [
    "spark._jvm.com.nvidia.spark.rapids.RapidsPluginUtils\\\n",
    "    .loadProps('rapids4spark-version-info.properties')"
   ]
  },
  {
   "cell_type": "code",
   "execution_count": null,
   "id": "b3e7c12d-b270-4db9-9b7d-82d1b144bc9c",
   "metadata": {},
   "outputs": [],
   "source": [
    "spark._jvm.com.nvidia.spark.rapids.RapidsPluginUtils\\\n",
    "    .loadProps('cudf-java-version-info.properties')"
   ]
  },
  {
   "cell_type": "code",
   "execution_count": null,
   "id": "c8a680f3-cbcd-432f-bbdd-d0f5012dda89",
   "metadata": {
    "tags": []
   },
   "outputs": [],
   "source": [
    "spark.conf.set('spark.rapids.sql.explain', 'NONE')\n",
    "spark.conf.set('spark.rapids.sql.enabled', False)"
   ]
  },
  {
   "cell_type": "markdown",
   "id": "14729dea-34af-4694-b97e-a820f18c48c0",
   "metadata": {},
   "source": [
    "# Test Data"
   ]
  },
  {
   "cell_type": "code",
   "execution_count": null,
   "id": "e265aea0-9054-493f-b3a3-fe2edb768b08",
   "metadata": {},
   "outputs": [],
   "source": [
    "spark.createDataFrame(\n",
    "    [\n",
    "        [ [],            ],\n",
    "        [ [None, None]   ],\n",
    "        [ None           ],\n",
    "        [ [10]           ],\n",
    "        [ [10, None]     ],\n",
    "        [ [20]           ],\n",
    "        [ [20, None]     ],\n",
    "        [ [10, 20, None] ],\n",
    "    ],\n",
    "    'a array<int>'\n",
    ").createOrReplaceTempView('df')\n"
   ]
  },
  {
   "cell_type": "code",
   "execution_count": null,
   "id": "a554b4ee-33c8-49e9-9816-f71055dbc2bc",
   "metadata": {},
   "outputs": [],
   "source": [
    "sql(\"\"\"\n",
    "    SELECT a,\n",
    "           transform(a, x -> x = 10) AS trans10 \n",
    "      FROM df\n",
    "  ORDER BY a\n",
    "\"\"\").show()"
   ]
  },
  {
   "cell_type": "code",
   "execution_count": null,
   "id": "2bacda88-f78c-43b6-bfd1-4f60056efaf1",
   "metadata": {
    "tags": []
   },
   "outputs": [],
   "source": [
    "demo_query=\"\"\"\n",
    "    SELECT a,\n",
    "           exists(a, x -> x = 10) AS exits10 \n",
    "      FROM df\n",
    "  ORDER BY a\n",
    "\"\"\"\n",
    "spark.conf.set('spark.rapids.sql.enabled', True)"
   ]
  },
  {
   "cell_type": "markdown",
   "id": "424f300b-ef7c-49a8-8424-af151c0460a5",
   "metadata": {},
   "source": [
    "# Spark 3.x default Three Value Logic (3VL)"
   ]
  },
  {
   "cell_type": "code",
   "execution_count": null,
   "id": "1b88c7ff-f91b-43a6-8674-8d167b58e26e",
   "metadata": {},
   "outputs": [],
   "source": [
    "spark.conf.set('spark.sql.legacy.followThreeValuedLogicInArrayExists', True)\n",
    "spark.conf.set('spark.rapids.sql.enabled', True)\n",
    "sql(demo_query).explain()\n",
    "sql(demo_query).show()"
   ]
  },
  {
   "cell_type": "markdown",
   "id": "5b9db300-92ef-4c99-96f8-c1288df81c8f",
   "metadata": {},
   "source": [
    "# Spark 2.x Binary Value Logic (2VL)"
   ]
  },
  {
   "cell_type": "code",
   "execution_count": null,
   "id": "f5f100d9-bd06-463e-bf54-7b134d0e6d62",
   "metadata": {},
   "outputs": [],
   "source": [
    "spark.conf.set('spark.sql.legacy.followThreeValuedLogicInArrayExists', False)\n",
    "sql(demo_query).explain()\n",
    "sql(demo_query).show()"
   ]
  },
  {
   "cell_type": "code",
   "execution_count": null,
   "id": "36f54361-b990-4bf7-92ec-4e375f17db37",
   "metadata": {},
   "outputs": [],
   "source": []
  }
 ],
 "metadata": {
  "kernelspec": {
   "display_name": "Python 3 (ipykernel)",
   "language": "python",
   "name": "python3"
  },
  "language_info": {
   "codemirror_mode": {
    "name": "ipython",
    "version": 3
   },
   "file_extension": ".py",
   "mimetype": "text/x-python",
   "name": "python",
   "nbconvert_exporter": "python",
   "pygments_lexer": "ipython3",
   "version": "3.8.12"
  }
 },
 "nbformat": 4,
 "nbformat_minor": 5
}
