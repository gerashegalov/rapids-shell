{
 "cells": [
  {
   "cell_type": "markdown",
   "id": "cc95b8c0-6443-475b-990c-485b4d6a6d2e",
   "metadata": {},
   "source": [
    "# Spark RAPIDS - Existence Join Demo"
   ]
  },
  {
   "cell_type": "code",
   "execution_count": null,
   "id": "8a2ee973-e69e-4bfc-baf1-e612832d6247",
   "metadata": {},
   "outputs": [],
   "source": [
    "spark"
   ]
  },
  {
   "cell_type": "code",
   "execution_count": null,
   "id": "6bd1bf8c-3ee2-443d-9f82-4d5fe3f8ed13",
   "metadata": {},
   "outputs": [],
   "source": [
    "spark.conf.set('spark.rapids.sql.explain', 'NONE')\n",
    "spark.conf.set('spark.rapids.sql.enabled', False)"
   ]
  },
  {
   "cell_type": "markdown",
   "id": "f6363bcd-2096-447e-9bde-b0165a73adab",
   "metadata": {},
   "source": [
    "## Create Data"
   ]
  },
  {
   "cell_type": "code",
   "execution_count": null,
   "id": "22534143-f505-4abc-ac28-ef38ee82ab1f",
   "metadata": {},
   "outputs": [],
   "source": [
    "spark.createDataFrame([\n",
    "    [1, 101, 2500],\n",
    "    [2, 102, 1110], \n",
    "    [3, 103, 500], \n",
    "    [4, 104, 400], \n",
    "    [5, 105, 150], \n",
    "    [6, 106, 450]],\n",
    "    'paymentId byte, cId int, amount long'\n",
    ").createOrReplaceTempView('payments')"
   ]
  },
  {
   "cell_type": "code",
   "execution_count": null,
   "id": "df6f1488-be84-4b9b-93ca-22af4a1828e4",
   "metadata": {
    "tags": []
   },
   "outputs": [],
   "source": [
    "sql(\"select * from payments\").show()"
   ]
  },
  {
   "cell_type": "code",
   "execution_count": null,
   "id": "6450c8e1-c0f5-49b1-bf84-5a23a2f87b1b",
   "metadata": {},
   "outputs": [],
   "source": [
    "spark.createDataFrame([\n",
    "    [101, 'Jon'], \n",
    "    [102, 'Aron'],\n",
    "    [103, 'Sam'],\n",
    "    [107, 'Jack']],\n",
    "    'cId int, name string'\n",
    ").createOrReplaceTempView('customers')"
   ]
  },
  {
   "cell_type": "code",
   "execution_count": null,
   "id": "32af8e75-1095-4889-82e5-f816ae29aa12",
   "metadata": {},
   "outputs": [],
   "source": [
    "sql(\"select * from customers\").show()"
   ]
  },
  {
   "cell_type": "markdown",
   "id": "f73ea400-8d05-43fa-9a6c-de8848aa836a",
   "metadata": {},
   "source": [
    "### What's ExistenceJoin?\n",
    "\n",
    "ExistenceJoin is a query evaluation optimization when there is a existential query (\\[NOT\\] EXISTS, IN) that rewrites to a LeftSemi join when there is an unrelated **disjunctive (OR)** condition"
   ]
  },
  {
   "cell_type": "code",
   "execution_count": null,
   "id": "b5a2547f-d186-4e31-aec3-17759c1eddd8",
   "metadata": {},
   "outputs": [],
   "source": [
    "# Consider a plain existential query \n",
    "query_plain_exists=\"\"\"\n",
    "SELECT *\n",
    "  FROM payments p\n",
    " WHERE p.cId IN\n",
    "         (SELECT c.cId\n",
    "            FROM customers c)\n",
    "\"\"\"\n",
    "sql(query_plain_exists).explain()"
   ]
  },
  {
   "cell_type": "code",
   "execution_count": null,
   "id": "c1ba1b47-5521-4008-8508-39625313c737",
   "metadata": {},
   "outputs": [],
   "source": [
    "# A conjunctive existential query \n",
    "query_and_exists=\"\"\"\n",
    "SELECT *\n",
    "  FROM payments p\n",
    " WHERE p.cId IN\n",
    "         (SELECT c.cId\n",
    "            FROM customers c)\n",
    "   AND p.amount >= 400\n",
    "\"\"\"\n",
    "sql(query_and_exists).explain()"
   ]
  },
  {
   "cell_type": "code",
   "execution_count": null,
   "id": "22e75a67-6016-4e59-b9aa-700d7b5eb842",
   "metadata": {},
   "outputs": [],
   "source": [
    "# A disjunctive existential query yields ExistenceJoin\n",
    "query_or_exists=\"\"\"\n",
    "SELECT *\n",
    "  FROM payments p\n",
    " WHERE p.cId IN\n",
    "         (SELECT c.cId\n",
    "            FROM customers c)\n",
    "    OR p.amount >= 400\n",
    "\"\"\"\n",
    "sql(query_or_exists).explain()"
   ]
  },
  {
   "cell_type": "markdown",
   "id": "fb680149-8025-4219-9506-9d9629cca823",
   "metadata": {
    "tags": []
   },
   "source": [
    "So boils down to filtering an intermediate table with a Boolean \"exists\" column\n",
    "\n",
    "# (exists#202 OR (amount#2L >= 400)), true\n",
    "\n",
    "|paymentId|cId|amount|exists|\n",
    "|---------|---|------|------|\n",
    "|        1|101|  2500|true  |\n",
    "|        2|102|  1110|true  |\n",
    "|        3|103|   500|true  |\n",
    "|        4|104|   400|false |\n",
    "|        5|105|   150|false | \n",
    "|        6|106|   450|false |"
   ]
  },
  {
   "cell_type": "code",
   "execution_count": null,
   "id": "cd56456c-960a-4585-9c59-fa01cef32401",
   "metadata": {},
   "outputs": [],
   "source": [
    "spark.conf.set('spark.rapids.sql.enabled', True)"
   ]
  },
  {
   "cell_type": "markdown",
   "id": "bf1bbff2-2666-471c-bb37-643731f25cad",
   "metadata": {
    "tags": []
   },
   "source": [
    "### ExistenceJoin on top of a hash-based join"
   ]
  },
  {
   "cell_type": "code",
   "execution_count": null,
   "id": "821df3dd-d327-4b31-8595-b3ebf02e476b",
   "metadata": {},
   "outputs": [],
   "source": [
    "sql(query_or_exists).explain()\n",
    "sql(query_or_exists).show()"
   ]
  },
  {
   "cell_type": "markdown",
   "id": "eccb2ec2-0969-4ae4-a190-c837ed8a0b1d",
   "metadata": {},
   "source": [
    "## BroadcastNestedLoop still falls back on CPU: = vs <"
   ]
  },
  {
   "cell_type": "code",
   "execution_count": null,
   "id": "629c67c8-e1c4-4f65-b53c-6f4d363152a7",
   "metadata": {},
   "outputs": [],
   "source": [
    "query_bnl_exists=\"\"\"\n",
    "SELECT *\n",
    "  FROM payments p\n",
    " WHERE EXISTS\n",
    "         (SELECT c.cId\n",
    "            FROM customers c    \n",
    "           WHERE c.cId > p.cId)\n",
    "    OR p.amount <= 400\n",
    "\"\"\"\n",
    "spark.conf.set('spark.rapids.sql.explain', 'ALL')\n",
    "sql(query_bnl_exists).explain()\n",
    "spark.conf.set('spark.rapids.sql.explain', 'NONE')\n",
    "sql(query_bnl_exists).show()"
   ]
  }
 ],
 "metadata": {
  "kernelspec": {
   "display_name": "Python 3 (ipykernel)",
   "language": "python",
   "name": "python3"
  },
  "language_info": {
   "codemirror_mode": {
    "name": "ipython",
    "version": 3
   },
   "file_extension": ".py",
   "mimetype": "text/x-python",
   "name": "python",
   "nbconvert_exporter": "python",
   "pygments_lexer": "ipython3",
   "version": "3.8.12"
  }
 },
 "nbformat": 4,
 "nbformat_minor": 5
}
