{
 "cells": [
  {
   "cell_type": "markdown",
   "metadata": {},
   "source": [
    "# cuDF/Java with IJava kernel https://github.com/SpencerPark/IJava"
   ]
  },
  {
   "cell_type": "markdown",
   "metadata": {},
   "source": [
    "Maven Install spark-rapids-jni or use a remote repo"
   ]
  },
  {
   "cell_type": "code",
   "execution_count": 1,
   "metadata": {},
   "outputs": [],
   "source": [
    "// For releases use\n",
    "// %maven \"com.nvidia:spark-rapids-jni:23.08.0\""
   ]
  },
  {
   "cell_type": "code",
   "execution_count": 2,
   "metadata": {},
   "outputs": [],
   "source": [
    "/* Run compile before \n",
    "./build/build-in-docker compile -DCPP_PARALLEL_LEVEL=6 -DGPU_ARCHS=NATIVE -DskipTests=true\n",
    "*/ \n",
    "String repoDir = System.getProperty(\"user.home\") + \"/gits/NVIDIA/spark-rapids-jni\""
   ]
  },
  {
   "cell_type": "code",
   "execution_count": 3,
   "metadata": {},
   "outputs": [
    {
     "data": {
      "text/plain": [
       "[/home/gshegalov/gits/NVIDIA/spark-rapids-jni/target/classes]"
      ]
     },
     "execution_count": 3,
     "metadata": {},
     "output_type": "execute_result"
    }
   ],
   "source": [
    "lineMagic(\"loadFromPOM\",  Arrays.asList(repoDir + \"/pom.xml\"));\n",
    "lineMagic(\"classpath\", Arrays.asList(repoDir + \"/target/classes\"));"
   ]
  },
  {
   "cell_type": "code",
   "execution_count": 4,
   "metadata": {
    "vscode": {
     "languageId": "java"
    }
   },
   "outputs": [
    {
     "data": {
      "text/plain": [
       "file:/home/gshegalov/gits/NVIDIA/spark-rapids-jni/target/classes/ai/rapids/cudf/Table.class"
      ]
     },
     "execution_count": 4,
     "metadata": {},
     "output_type": "execute_result"
    }
   ],
   "source": [
    "import ai.rapids.cudf.*;\n",
    "import com.nvidia.spark.rapids.jni.*;\n",
    "ai.rapids.cudf.Table.class.getClassLoader().getResource(\"ai/rapids/cudf/Table.class\").toString()"
   ]
  },
  {
   "cell_type": "code",
   "execution_count": 5,
   "metadata": {},
   "outputs": [
    {
     "name": "stderr",
     "output_type": "stream",
     "text": [
      "SLF4J: Failed to load class \"org.slf4j.impl.StaticLoggerBinder\".\n",
      "SLF4J: Defaulting to no-operation (NOP) logger implementation\n",
      "SLF4J: See http://www.slf4j.org/codes.html#StaticLoggerBinder for further details.\n"
     ]
    }
   ],
   "source": [
    "TableDebug printer = TableDebug.builder().withOutput(TableDebug.Output.STDOUT).build()"
   ]
  },
  {
   "cell_type": "code",
   "execution_count": 6,
   "metadata": {
    "vscode": {
     "languageId": "java"
    }
   },
   "outputs": [],
   "source": [
    "Table table0 = new Table.TestBuilder()\n",
    "    .column(\n",
    "        \"NaN\",\n",
    "        \"9NaN\",\n",
    "        \"9NaN6\",\n",
    "        \"NaN6\",\n",
    "        \" 9 \",\n",
    "        \"9 \",\n",
    "        \"  9\",\n",
    "        \"170\",\n",
    "        \"100\", \n",
    "        \"224\", \n",
    "        \"324\", \n",
    "        \"476\")\n",
    "    .build();"
   ]
  },
  {
   "cell_type": "code",
   "execution_count": 7,
   "metadata": {
    "vscode": {
     "languageId": "java"
    }
   },
   "outputs": [
    {
     "name": "stdout",
     "output_type": "stream",
     "text": [
      "DEBUG table0 Table{columns=[ColumnVector{rows=12, type=STRING, nullCount=Optional[0], offHeap=(ID: 6 7ff1613f3000)}], cudfTable=140674695378400, rows=12}\n",
      "GPU COLUMN 0 - NC: 0 DATA: DeviceMemoryBufferView{address=0x7ff0cec00000, length=39, id=-1} VAL: null\n",
      "COLUMN 0 - STRING\n",
      "0 \"NaN\" 4e614e\n",
      "1 \"9NaN\" 394e614e\n",
      "2 \"9NaN6\" 394e614e36\n",
      "3 \"NaN6\" 4e614e36\n",
      "4 \" 9 \" 203920\n",
      "5 \"9 \" 3920\n",
      "6 \"  9\" 202039\n",
      "7 \"170\" 313730\n",
      "8 \"100\" 313030\n",
      "9 \"224\" 323234\n",
      "10 \"324\" 333234\n",
      "11 \"476\" 343736\n"
     ]
    }
   ],
   "source": [
    "printer.debug(\"table0\", table0)"
   ]
  },
  {
   "cell_type": "code",
   "execution_count": 8,
   "metadata": {
    "vscode": {
     "languageId": "java"
    }
   },
   "outputs": [
    {
     "name": "stdout",
     "output_type": "stream",
     "text": [
      "GPU COLUMN regexed - NC: 0 DATA: DeviceMemoryBufferView{address=0x7ff0cec01000, length=31, id=-1} VAL: null\n",
      "COLUMN regexed - STRING\n",
      "0 \"NaN\" 4e614e\n",
      "1 \"NaN\" 4e614e\n",
      "2 \"NaN6\" 4e614e36\n",
      "3 \"NaN6\" 4e614e36\n",
      "4 \" 9 \" 203920\n",
      "5 \" \" 20\n",
      "6 \"  9\" 202039\n",
      "7 \"70\" 3730\n",
      "8 \"00\" 3030\n",
      "9 \"24\" 3234\n",
      "10 \"24\" 3234\n",
      "11 \"76\" 3736\n"
     ]
    }
   ],
   "source": [
    "printer.debug(\"regexed\", table0.getColumn(0).replaceRegex(new RegexProgram(\"^[0-9]\"), Scalar.fromString(\"\")))"
   ]
  },
  {
   "cell_type": "code",
   "execution_count": 9,
   "metadata": {
    "vscode": {
     "languageId": "java"
    }
   },
   "outputs": [
    {
     "name": "stdout",
     "output_type": "stream",
     "text": [
      "GPU COLUMN intsUsingBase16 - NC: 2 DATA: DeviceMemoryBufferView{address=0x7ff0cec00e00, length=96, id=-1} VAL: DeviceMemoryBufferView{address=0x7ff0cec00c00, length=64, id=-1}\n",
      "COLUMN intsUsingBase16 - UINT64\n",
      "0 NULL\n",
      "1 9\n",
      "2 9\n",
      "3 NULL\n",
      "4 9\n",
      "5 9\n",
      "6 9\n",
      "7 368\n",
      "8 256\n",
      "9 548\n",
      "10 804\n",
      "11 1142\n"
     ]
    }
   ],
   "source": [
    "printer.debug(\"intsUsingBase16\", CastStrings.toIntegersWithBase(table0.getColumn(0), 16));"
   ]
  },
  {
   "cell_type": "code",
   "execution_count": 10,
   "metadata": {
    "vscode": {
     "languageId": "java"
    }
   },
   "outputs": [
    {
     "name": "stdout",
     "output_type": "stream",
     "text": [
      "GPU COLUMN hexsRoundTrip16 - NC: 2 DATA: DeviceMemoryBufferView{address=0x7ff0cec02200, length=20, id=-1} VAL: DeviceMemoryBufferView{address=0x7ff0cec02000, length=64, id=-1}\n",
      "COLUMN hexsRoundTrip16 - STRING\n",
      "0 NULL\n",
      "1 \"9\" 39\n",
      "2 \"9\" 39\n",
      "3 NULL\n",
      "4 \"9\" 39\n",
      "5 \"9\" 39\n",
      "6 \"9\" 39\n",
      "7 \"170\" 313730\n",
      "8 \"100\" 313030\n",
      "9 \"224\" 323234\n",
      "10 \"324\" 333234\n",
      "11 \"476\" 343736\n"
     ]
    }
   ],
   "source": [
    "printer.debug(\"hexsRoundTrip16\", CastStrings.fromIntegersWithBase(CastStrings.toIntegersWithBase(table0.getColumn(0), 16), 16))"
   ]
  },
  {
   "cell_type": "code",
   "execution_count": 11,
   "metadata": {
    "vscode": {
     "languageId": "java"
    }
   },
   "outputs": [
    {
     "name": "stdout",
     "output_type": "stream",
     "text": [
      "GPU COLUMN intsUsingBase10 - NC: 2 DATA: DeviceMemoryBufferView{address=0x7ff0cec01400, length=96, id=-1} VAL: DeviceMemoryBufferView{address=0x7ff0cec01200, length=64, id=-1}\n",
      "COLUMN intsUsingBase10 - UINT64\n",
      "0 NULL\n",
      "1 9\n",
      "2 9\n",
      "3 NULL\n",
      "4 9\n",
      "5 9\n",
      "6 9\n",
      "7 170\n",
      "8 100\n",
      "9 224\n",
      "10 324\n",
      "11 476\n"
     ]
    }
   ],
   "source": [
    "printer.debug(\"intsUsingBase10\", CastStrings.toIntegersWithBase(table0.getColumn(0), 10));"
   ]
  },
  {
   "cell_type": "code",
   "execution_count": 12,
   "metadata": {
    "vscode": {
     "languageId": "java"
    }
   },
   "outputs": [
    {
     "name": "stdout",
     "output_type": "stream",
     "text": [
      "GPU COLUMN intsRoundTrip10 - NC: 2 DATA: DeviceMemoryBufferView{address=0x7ff0cec02400, length=20, id=-1} VAL: DeviceMemoryBufferView{address=0x7ff0cec01a00, length=64, id=-1}\n",
      "COLUMN intsRoundTrip10 - STRING\n",
      "0 NULL\n",
      "1 \"9\" 39\n",
      "2 \"9\" 39\n",
      "3 NULL\n",
      "4 \"9\" 39\n",
      "5 \"9\" 39\n",
      "6 \"9\" 39\n",
      "7 \"170\" 313730\n",
      "8 \"100\" 313030\n",
      "9 \"224\" 323234\n",
      "10 \"324\" 333234\n",
      "11 \"476\" 343736\n"
     ]
    }
   ],
   "source": [
    "printer.debug(\"intsRoundTrip10\", CastStrings.fromIntegersWithBase(CastStrings.toIntegersWithBase(table0.getColumn(0), 10), 10))"
   ]
  },
  {
   "cell_type": "code",
   "execution_count": 7,
   "metadata": {},
   "outputs": [],
   "source": [
    "ColumnView cv = table0.getColumn(1).findAndReplaceAll(\n",
    "    ColumnVector.fromStrings(\"string 1\", \"string 1000\"),\n",
    "    ColumnVector.fromStrings(\"Something\", \"Else\"))"
   ]
  },
  {
   "cell_type": "code",
   "execution_count": 8,
   "metadata": {},
   "outputs": [
    {
     "name": "stdout",
     "output_type": "stream",
     "text": [
      "GPU COLUMN cv - NC: 0 DATA: DeviceMemoryBufferView{address=0x7fe75b202200, length=13, id=-1} VAL: DeviceMemoryBufferView{address=0x7fe75b201e00, length=64, id=-1}\n",
      "COLUMN cv - STRING\n",
      "0 \"Something\" 536f6d657468696e67\n",
      "1 \"Else\" 456c7365\n"
     ]
    }
   ],
   "source": [
    "printer.debug(\"cv\", cv)"
   ]
  }
 ],
 "metadata": {
  "kernelspec": {
   "display_name": "Java11",
   "language": "java",
   "name": "java"
  },
  "language_info": {
   "codemirror_mode": "java",
   "file_extension": ".jshell",
   "mimetype": "text/x-java-source",
   "name": "java",
   "pygments_lexer": "java",
   "version": "11.0.20+8-post-Ubuntu-1ubuntu122.04"
  }
 },
 "nbformat": 4,
 "nbformat_minor": 4
}
