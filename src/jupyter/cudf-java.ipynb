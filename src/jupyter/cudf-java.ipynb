{
 "cells": [
  {
   "cell_type": "markdown",
   "metadata": {},
   "source": [
    "# cuDF/Java with IJava kernel https://github.com/SpencerPark/IJava"
   ]
  },
  {
   "cell_type": "markdown",
   "metadata": {},
   "source": [
    "Maven Install spark-rapids-jni or use a remote repo"
   ]
  },
  {
   "cell_type": "code",
   "execution_count": 1,
   "metadata": {},
   "outputs": [],
   "source": [
    "%%loadFromPOM\n",
    "<dependency>\n",
    "  <groupId>com.nvidia</groupId>\n",
    "  <artifactId>spark-rapids-jni</artifactId>\n",
    "  <version>23.10.0-SNAPSHOT</version>\n",
    "  <classifier>cuda11</classifier>\n",
    "</dependency>"
   ]
  },
  {
   "cell_type": "code",
   "execution_count": 2,
   "metadata": {},
   "outputs": [],
   "source": [
    "import ai.rapids.cudf.*"
   ]
  },
  {
   "cell_type": "code",
   "execution_count": 3,
   "metadata": {},
   "outputs": [
    {
     "name": "stderr",
     "output_type": "stream",
     "text": [
      "SLF4J: Failed to load class \"org.slf4j.impl.StaticLoggerBinder\".\n",
      "SLF4J: Defaulting to no-operation (NOP) logger implementation\n",
      "SLF4J: See http://www.slf4j.org/codes.html#StaticLoggerBinder for further details.\n"
     ]
    }
   ],
   "source": [
    "TableDebug printer = TableDebug.builder().withOutput(TableDebug.Output.STDOUT).build()"
   ]
  },
  {
   "cell_type": "code",
   "execution_count": 4,
   "metadata": {},
   "outputs": [],
   "source": [
    "Table table0 = new Table.TestBuilder()\n",
    "    .column(100, 1000)\n",
    "    .column(\"string 1\", \"string 1000\")\n",
    "    .build()"
   ]
  },
  {
   "cell_type": "code",
   "execution_count": 5,
   "metadata": {},
   "outputs": [
    {
     "name": "stdout",
     "output_type": "stream",
     "text": [
      "DEBUG table0 Table{columns=[ColumnVector{rows=2, type=INT32, nullCount=Optional[0], offHeap=(ID: 4 7fe814e668c0)}, ColumnVector{rows=2, type=STRING, nullCount=Optional[0], offHeap=(ID: 10 7fe814e69cf0)}], cudfTable=140631683049472, rows=2}\n",
      "GPU COLUMN 0 - NC: 0 DATA: DeviceMemoryBufferView{address=0x7fe75b200000, length=8, id=-1} VAL: null\n",
      "COLUMN 0 - INT32\n",
      "0 100\n",
      "1 1000\n",
      "GPU COLUMN 1 - NC: 0 DATA: DeviceMemoryBufferView{address=0x7fe75b200200, length=19, id=-1} VAL: null\n",
      "COLUMN 1 - STRING\n",
      "0 \"string 1\" 737472696e672031\n",
      "1 \"string 1000\" 737472696e672031303030\n"
     ]
    }
   ],
   "source": [
    "printer.debug(\"table0\", table0)"
   ]
  },
  {
   "cell_type": "code",
   "execution_count": 6,
   "metadata": {},
   "outputs": [
    {
     "data": {
      "text/plain": [
       "Scalar{type=INT32 value=1100} (ID: 16 7fe75d836750)"
      ]
     },
     "execution_count": 6,
     "metadata": {},
     "output_type": "execute_result"
    }
   ],
   "source": [
    "table0.getColumn(0).sum()"
   ]
  },
  {
   "cell_type": "code",
   "execution_count": 7,
   "metadata": {},
   "outputs": [],
   "source": [
    "ColumnView cv = table0.getColumn(1).findAndReplaceAll(\n",
    "    ColumnVector.fromStrings(\"string 1\", \"string 1000\"),\n",
    "    ColumnVector.fromStrings(\"Something\", \"Else\"))"
   ]
  },
  {
   "cell_type": "code",
   "execution_count": 8,
   "metadata": {},
   "outputs": [
    {
     "name": "stdout",
     "output_type": "stream",
     "text": [
      "GPU COLUMN cv - NC: 0 DATA: DeviceMemoryBufferView{address=0x7fe75b202200, length=13, id=-1} VAL: DeviceMemoryBufferView{address=0x7fe75b201e00, length=64, id=-1}\n",
      "COLUMN cv - STRING\n",
      "0 \"Something\" 536f6d657468696e67\n",
      "1 \"Else\" 456c7365\n"
     ]
    }
   ],
   "source": [
    "printer.debug(\"cv\", cv)"
   ]
  }
 ],
 "metadata": {
  "kernelspec": {
   "display_name": "Java17",
   "language": "java",
   "name": "java"
  },
  "language_info": {
   "codemirror_mode": "java",
   "file_extension": ".jshell",
   "mimetype": "text/x-java-source",
   "name": "java",
   "pygments_lexer": "java",
   "version": "17.0.7+7-Ubuntu-0ubuntu122.04.2"
  }
 },
 "nbformat": 4,
 "nbformat_minor": 4
}
