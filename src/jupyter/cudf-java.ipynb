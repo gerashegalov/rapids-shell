{
 "cells": [
  {
   "cell_type": "markdown",
   "metadata": {},
   "source": [
    "# cuDF/Java with IJava kernel https://github.com/SpencerPark/IJava"
   ]
  },
  {
   "cell_type": "markdown",
   "metadata": {},
   "source": [
    "Maven Install spark-rapids-jni or use a remote repo"
   ]
  },
  {
   "cell_type": "code",
   "execution_count": 1,
   "metadata": {
    "vscode": {
     "languageId": "java"
    }
   },
   "outputs": [],
   "source": [
    "%%loadFromPOM\n",
    "<dependency>\n",
    "  <groupId>com.nvidia</groupId>\n",
    "  <artifactId>spark-rapids-jni</artifactId>\n",
    "  <version>23.10.0-SNAPSHOT</version>\n",
    "  <classifier>cuda11</classifier>\n",
    "</dependency>"
   ]
  },
  {
   "cell_type": "code",
   "execution_count": 2,
   "metadata": {
    "vscode": {
     "languageId": "java"
    }
   },
   "outputs": [],
   "source": [
    "import ai.rapids.cudf.*"
   ]
  },
  {
   "cell_type": "code",
   "execution_count": 3,
   "metadata": {
    "vscode": {
     "languageId": "java"
    }
   },
   "outputs": [
    {
     "name": "stderr",
     "output_type": "stream",
     "text": [
      "SLF4J: Failed to load class \"org.slf4j.impl.StaticLoggerBinder\".\n",
      "SLF4J: Defaulting to no-operation (NOP) logger implementation\n",
      "SLF4J: See http://www.slf4j.org/codes.html#StaticLoggerBinder for further details.\n",
      "SLF4J: Defaulting to no-operation (NOP) logger implementation\n",
      "SLF4J: See http://www.slf4j.org/codes.html#StaticLoggerBinder for further details.\n"
     ]
    }
   ],
   "source": [
    "TableDebug printer = TableDebug.builder().withOutput(TableDebug.Output.STDOUT).build()"
   ]
  },
  {
   "cell_type": "code",
   "execution_count": 4,
   "metadata": {
    "vscode": {
     "languageId": "java"
    }
   },
   "outputs": [],
   "source": [
    "Table table0 = new Table.TestBuilder().column(1, 2, 3, 4).build()"
   ]
  },
  {
   "cell_type": "code",
   "execution_count": 5,
   "metadata": {
    "vscode": {
     "languageId": "java"
    }
   },
   "outputs": [
    {
     "name": "stdout",
     "output_type": "stream",
     "text": [
      "DEBUG table0 Table{columns=[ColumnVector{rows=4, type=INT32, nullCount=Optional[0], offHeap=(ID: 4 7fa3b8e75170)}], cudfTable=140338497710256, rows=4}\n",
      "GPU COLUMN 0 - NC: 0 DATA: DeviceMemoryBufferView{address=0x7fa317200000, length=16, id=-1} VAL: null\n",
      "COLUMN 0 - INT32\n",
      "0 1\n",
      "1 2\n",
      "2 3\n",
      "3 4\n",
      "GPU COLUMN 0 - NC: 0 DATA: DeviceMemoryBufferView{address=0x7fa317200000, length=16, id=-1} VAL: null\n",
      "COLUMN 0 - INT32\n",
      "0 1\n",
      "1 2\n",
      "2 3\n",
      "3 4\n"
     ]
    }
   ],
   "source": [
    "printer.debug(\"table0\", table0)"
   ]
  },
  {
   "cell_type": "code",
   "execution_count": 6,
   "metadata": {
    "vscode": {
     "languageId": "java"
    }
   },
   "outputs": [
    {
     "data": {
      "text/plain": [
       "Scalar{type=INT32 value=10} (ID: 7 7fa322b989c0)"
      ]
     },
     "execution_count": 6,
     "metadata": {},
     "output_type": "execute_result"
    }
   ],
   "source": [
    "table0.getColumn(0).sum()"
   ]
  }
 ],
 "metadata": {
  "kernelspec": {
   "display_name": "Java17",
   "language": "java",
   "name": "java"
  },
  "language_info": {
   "codemirror_mode": "java",
   "file_extension": ".jshell",
   "mimetype": "text/x-java-source",
   "name": "Java",
   "pygments_lexer": "java",
   "version": "17.0.7+7-Ubuntu-0ubuntu122.04.2"
  },
  "orig_nbformat": 4
 },
 "nbformat": 4,
 "nbformat_minor": 2
}
