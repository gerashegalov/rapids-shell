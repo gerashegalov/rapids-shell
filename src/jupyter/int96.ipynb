{
 "cells": [
  {
   "attachments": {},
   "cell_type": "markdown",
   "id": "4146aabb-1c55-415e-b60c-23a1dcc1184a",
   "metadata": {
    "tags": []
   },
   "source": [
    "Start jupyter-lab\n",
    "\n",
    "```bash\n",
    "jupyter-lab --notebook-dir=$HOME/gits/gerashegalov/rapids-shell/src/jupyter\n",
    "```\n",
    "or simply open in VS Code with Jupyter extension"
   ]
  },
  {
   "cell_type": "markdown",
   "id": "85f9c9ac",
   "metadata": {},
   "source": [
    "# Repro for [NVIDIA/spark-rapids#8625](https://github.com/NVIDIA/spark-rapids/issues/8625)"
   ]
  },
  {
   "cell_type": "code",
   "execution_count": null,
   "id": "4010da20-e354-4b10-b3ce-000344c59daf",
   "metadata": {},
   "outputs": [],
   "source": [
    "import datetime\n",
    "import findspark\n",
    "import glob\n",
    "import json\n",
    "import os\n",
    "import pyarrow\n",
    "import pyarrow.parquet"
   ]
  },
  {
   "cell_type": "markdown",
   "id": "72923f92",
   "metadata": {},
   "source": [
    "### Versions"
   ]
  },
  {
   "cell_type": "code",
   "execution_count": null,
   "id": "152499e5",
   "metadata": {},
   "outputs": [],
   "source": [
    "rapids_version = '23.08.0-SNAPSHOT'\n",
    "spark_version = '3.4.1'\n",
    "cuda_version = 'cuda11'\n",
    "scala_version = '2.12'"
   ]
  },
  {
   "cell_type": "markdown",
   "id": "2e84d10a",
   "metadata": {},
   "source": [
    "### Environment Variables"
   ]
  },
  {
   "cell_type": "code",
   "execution_count": null,
   "id": "8b1b741a",
   "metadata": {},
   "outputs": [],
   "source": [
    "os.environ['JAVA_HOME'] = '/usr/lib/jvm/java-8-openjdk-amd64'\n",
    "os.environ['SPARK_LOCAL_IP'] = '127.0.0.1'\n",
    "os.environ['TZ'] = 'UTC'"
   ]
  },
  {
   "cell_type": "code",
   "execution_count": null,
   "id": "ab907e62",
   "metadata": {},
   "outputs": [],
   "source": [
    "home_dir = os.environ['HOME']\n",
    "work_dir = f\"{home_dir}/jupyter_run_dir\"\n",
    "rapids_home = f\"{home_dir}/gits/NVIDIA/spark-rapids\"\n",
    "dist_jar = f\"rapids-4-spark_{scala_version}-{rapids_version}-{cuda_version}.jar\"\n",
    "spark_home = f\"{home_dir}/dist/spark-{spark_version}-bin-hadoop3\""
   ]
  },
  {
   "cell_type": "markdown",
   "id": "29534b21",
   "metadata": {},
   "source": [
    "### Find Spark "
   ]
  },
  {
   "cell_type": "code",
   "execution_count": null,
   "id": "c1dfd91c",
   "metadata": {},
   "outputs": [],
   "source": [
    "findspark.init(spark_home = spark_home)\n",
    "findspark.add_jars(f\"{rapids_home}/dist/target/{dist_jar}\")\n",
    "import pyspark"
   ]
  },
  {
   "cell_type": "markdown",
   "id": "242319ae",
   "metadata": {},
   "source": [
    "### Configure Spark"
   ]
  },
  {
   "cell_type": "code",
   "execution_count": null,
   "id": "15dd6b39-9f91-4855-ab13-25989937df4e",
   "metadata": {},
   "outputs": [],
   "source": [
    "cores_per_exec = 1\n",
    "spark_master = f\"local[{cores_per_exec}]\"\n",
    "spark_builder = pyspark.sql.SparkSession.builder.config(\n",
    "    map = {\n",
    "        'spark.app.name': 'RAPIDS PySpark Notebook',\n",
    "        'spark.driver.extraJavaOptions': '-Dai.rapids.cudf.preserve-dependencies=true',\n",
    "        'spark.master': spark_master,\n",
    "        'spark.plugins': 'com.nvidia.spark.SQLPlugin',\n",
    "        'spark.rapids.sql.enabled': False,\n",
    "        'spark.rapids.sql.explain': 'ALL', \n",
    "    }   \n",
    ")\n",
    "spark = spark_builder.getOrCreate()"
   ]
  },
  {
   "cell_type": "markdown",
   "id": "31634b93",
   "metadata": {},
   "source": [
    "# Test Scenario"
   ]
  },
  {
   "cell_type": "code",
   "execution_count": null,
   "id": "bd3a6125",
   "metadata": {},
   "outputs": [],
   "source": [
    "ts_tup = (\n",
    "    datetime.datetime(2023, 7, 14, 7, 38, 45, 418688),\n",
    "    datetime.datetime(5023, 7, 14, 7, 38, 45, 418688),\n",
    ")\n",
    "ts_tup"
   ]
  },
  {
   "cell_type": "code",
   "execution_count": null,
   "id": "d2438c36-df9b-4177-85da-b114a0d16f80",
   "metadata": {},
   "outputs": [],
   "source": [
    "spark.createDataFrame([ts_tup,], 'ts timestamp, big_ts timestamp').createOrReplaceTempView('df1')\n",
    "spark.sql(\"SELECT * FROM df1\").show(truncate = False)\n",
    "spark.sql(\"SELECT * FROM df1\").printSchema()"
   ]
  },
  {
   "cell_type": "code",
   "execution_count": null,
   "id": "b65b29aa",
   "metadata": {},
   "outputs": [],
   "source": [
    "spark.conf.get('spark.sql.parquet.outputTimestampType')"
   ]
  },
  {
   "cell_type": "code",
   "execution_count": null,
   "id": "260b6007",
   "metadata": {},
   "outputs": [],
   "source": [
    "spark.sql(\"SELECT MAX(ts) as max_ts, MAX(big_ts) as max_big_ts FROM df1\").write.mode('overwrite').parquet('/tmp/int96_out.parquet')"
   ]
  },
  {
   "cell_type": "code",
   "execution_count": null,
   "id": "079f0c33",
   "metadata": {},
   "outputs": [],
   "source": [
    "read_df = spark.read.parquet('/tmp/int96_out.parquet')\n",
    "read_df.printSchema()\n",
    "read_df.show(truncate = False)"
   ]
  },
  {
   "cell_type": "code",
   "execution_count": null,
   "id": "b7b77dbf",
   "metadata": {},
   "outputs": [],
   "source": [
    "parquet_file, = glob.glob('/tmp/int96_out.parquet/*.parquet')"
   ]
  },
  {
   "cell_type": "code",
   "execution_count": null,
   "id": "3d62f3bb",
   "metadata": {},
   "outputs": [],
   "source": [
    "pmd = pyarrow.parquet.read_metadata(parquet_file)\n",
    "pmd.to_dict()"
   ]
  },
  {
   "cell_type": "code",
   "execution_count": null,
   "id": "b2d29efb",
   "metadata": {},
   "outputs": [],
   "source": [
    "for k, v in pmd.metadata.items():\n",
    "    print(k.decode('ascii'))\n",
    "    print(v.decode('ascii'))"
   ]
  },
  {
   "cell_type": "code",
   "execution_count": null,
   "id": "1a85d4d2",
   "metadata": {},
   "outputs": [],
   "source": [
    "pmd.schema"
   ]
  },
  {
   "cell_type": "code",
   "execution_count": null,
   "id": "eed49427",
   "metadata": {},
   "outputs": [],
   "source": [
    "pmd.row_group(0).column(0)        "
   ]
  },
  {
   "cell_type": "code",
   "execution_count": null,
   "id": "bd1ee602",
   "metadata": {},
   "outputs": [],
   "source": [
    "data = pyarrow.parquet.read_table(parquet_file)\n",
    "data"
   ]
  }
 ],
 "metadata": {
  "kernelspec": {
   "display_name": "Python 3 (ipykernel)",
   "language": "python",
   "name": "python3"
  },
  "language_info": {
   "codemirror_mode": {
    "name": "ipython",
    "version": 3
   },
   "file_extension": ".py",
   "mimetype": "text/x-python",
   "name": "python",
   "nbconvert_exporter": "python",
   "pygments_lexer": "ipython3",
   "version": "3.10.6"
  },
  "vscode": {
   "interpreter": {
    "hash": "24e1e440b58174d23459f334e6373b3f84a303d378405919ee47af328df355be"
   }
  }
 },
 "nbformat": 4,
 "nbformat_minor": 5
}
