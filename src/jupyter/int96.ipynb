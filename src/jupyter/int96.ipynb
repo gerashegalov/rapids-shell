{
 "cells": [
  {
   "attachments": {},
   "cell_type": "markdown",
   "id": "4146aabb-1c55-415e-b60c-23a1dcc1184a",
   "metadata": {
    "tags": []
   },
   "source": [
    "Start jupyter-lab\n",
    "\n",
    "```bash\n",
    "jupyter-lab --notebook-dir=$HOME/gits/gerashegalov/rapids-shell/src/jupyter\n",
    "```\n",
    "or simply open in VS Code with Jupyter extension"
   ]
  },
  {
   "cell_type": "markdown",
   "id": "85f9c9ac",
   "metadata": {},
   "source": [
    "# Repro for [NVIDIA/spark-rapids#8625](https://github.com/NVIDIA/spark-rapids/issues/8625)"
   ]
  },
  {
   "cell_type": "code",
   "execution_count": null,
   "id": "4010da20-e354-4b10-b3ce-000344c59daf",
   "metadata": {},
   "outputs": [],
   "source": [
    "import datetime\n",
    "import findspark\n",
    "import os"
   ]
  },
  {
   "cell_type": "code",
   "execution_count": null,
   "id": "152499e5",
   "metadata": {},
   "outputs": [],
   "source": [
    "rapids_version = '23.08.0-SNAPSHOT'\n",
    "spark_version = '3.4.1'"
   ]
  },
  {
   "cell_type": "code",
   "execution_count": null,
   "id": "ab907e62",
   "metadata": {},
   "outputs": [],
   "source": [
    "os.environ['JAVA_HOME'] = '/usr/lib/jvm/java-8-openjdk-amd64'\n",
    "os.environ['SPARK_LOCAL_IP'] = '127.0.0.1'\n",
    "os.environ['TZ'] = 'UTC'\n",
    "\n",
    "home_dir = os.environ['HOME']\n",
    "work_dir = f\"{home_dir}/jupyter_run_dir\"\n",
    "spark_home = f\"{home_dir}/dist/spark-3.4.1-bin-hadoop3\"\n",
    "cores_per_exec = 1\n",
    "spark_master = f\"local[{cores_per_exec}]\""
   ]
  },
  {
   "cell_type": "code",
   "execution_count": null,
   "id": "15dd6b39-9f91-4855-ab13-25989937df4e",
   "metadata": {},
   "outputs": [],
   "source": [
    "findspark.init(spark_home = spark_home)\n",
    "findspark.add_jars(f\"{home_dir}/gits/NVIDIA/spark-rapids/dist/target/rapids-4-spark_2.12-{rapids_version}-cuda11.jar\")\n",
    "import pyspark\n",
    "spark = pyspark.sql.SparkSession.builder \\\n",
    "    .appName('RAPIDS PySpark Notebook') \\\n",
    "    .master(spark_master) \\\n",
    "    .config(map = {\n",
    "        'spark.plugins': 'com.nvidia.spark.SQLPlugin',\n",
    "        'spark.rapids.sql.explain': 'ALL', \n",
    "        'spark.sql.adaptive.enabled': False,\n",
    "        'spark.driver.extraJavaOptions': '-Dai.rapids.cudf.preserve-dependencies=true',\n",
    "    }) \\\n",
    "    .getOrCreate()"
   ]
  },
  {
   "cell_type": "code",
   "execution_count": null,
   "id": "bd3a6125",
   "metadata": {},
   "outputs": [],
   "source": [
    "ts = datetime.datetime(5000, 7, 14, 7, 38, 45, 418688)\n",
    "ts"
   ]
  },
  {
   "cell_type": "code",
   "execution_count": null,
   "id": "d2438c36-df9b-4177-85da-b114a0d16f80",
   "metadata": {},
   "outputs": [],
   "source": [
    "spark.createDataFrame([(ts,),], 'ts_ntz timestamp').createOrReplaceTempView('df1')\n",
    "spark.sql(\"SELECT * FROM df1\").show(truncate = False)\n",
    "spark.sql(\"SELECT * FROM df1\").printSchema()"
   ]
  },
  {
   "cell_type": "code",
   "execution_count": null,
   "id": "b65b29aa",
   "metadata": {},
   "outputs": [],
   "source": [
    "spark.conf.get('spark.sql.parquet.outputTimestampType')"
   ]
  },
  {
   "cell_type": "code",
   "execution_count": null,
   "id": "260b6007",
   "metadata": {},
   "outputs": [],
   "source": [
    "spark.sql(\"SELECT MAX(*) FROM df1\").write.mode('overwrite').parquet('/tmp/int96_out.parquet')"
   ]
  }
 ],
 "metadata": {
  "kernelspec": {
   "display_name": "Python 3 (ipykernel)",
   "language": "python",
   "name": "python3"
  },
  "language_info": {
   "codemirror_mode": {
    "name": "ipython",
    "version": 3
   },
   "file_extension": ".py",
   "mimetype": "text/x-python",
   "name": "python",
   "nbconvert_exporter": "python",
   "pygments_lexer": "ipython3",
   "version": "3.10.6"
  },
  "vscode": {
   "interpreter": {
    "hash": "24e1e440b58174d23459f334e6373b3f84a303d378405919ee47af328df355be"
   }
  }
 },
 "nbformat": 4,
 "nbformat_minor": 5
}
